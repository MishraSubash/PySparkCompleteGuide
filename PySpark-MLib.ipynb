{
 "cells": [
  {
   "cell_type": "code",
   "execution_count": 1,
   "id": "1af0bb59-b6f2-42ed-90bc-968805e2e625",
   "metadata": {},
   "outputs": [
    {
     "name": "stdout",
     "output_type": "stream",
     "text": [
      "root\n",
      " |-- total_bill: double (nullable = true)\n",
      " |-- tip: double (nullable = true)\n",
      " |-- sex: string (nullable = true)\n",
      " |-- smoker: string (nullable = true)\n",
      " |-- day: string (nullable = true)\n",
      " |-- time: string (nullable = true)\n",
      " |-- size: integer (nullable = true)\n",
      "\n",
      "None\n",
      "+----------+----+------+------+---+------+----+\n",
      "|total_bill| tip|   sex|smoker|day|  time|size|\n",
      "+----------+----+------+------+---+------+----+\n",
      "|     16.99|1.01|Female|    No|Sun|Dinner|   2|\n",
      "|     10.34|1.66|  Male|    No|Sun|Dinner|   3|\n",
      "|     21.01| 3.5|  Male|    No|Sun|Dinner|   3|\n",
      "|     23.68|3.31|  Male|    No|Sun|Dinner|   2|\n",
      "|     24.59|3.61|Female|    No|Sun|Dinner|   4|\n",
      "+----------+----+------+------+---+------+----+\n",
      "only showing top 5 rows\n",
      "\n"
     ]
    }
   ],
   "source": [
    "import pyspark\n",
    "#import pandas as pd\n",
    "from pyspark.ml.feature import VectorAssembler\n",
    "from pyspark.ml.regression import LinearRegression \n",
    "from pyspark.ml.feature import StringIndexer\n",
    "# When working with PySpark, also need to start the PySpark session \n",
    "\n",
    "from pyspark.sql import SparkSession\n",
    "# Get or Create new working app name\n",
    "spark = SparkSession.builder.appName('practice3').getOrCreate()\n",
    "\n",
    "# Import dataset\n",
    "df = spark.read.csv('tips.csv', header = True, inferSchema = True)\n",
    "print(df.printSchema())\n",
    "df.show(5)"
   ]
  },
  {
   "cell_type": "code",
   "execution_count": 2,
   "id": "a94861ca-8d51-4b64-a2f4-6f132fc7cf68",
   "metadata": {},
   "outputs": [
    {
     "name": "stdout",
     "output_type": "stream",
     "text": [
      "+----------+----+------+------+---+------+----+-----------+--------------+-----------+------------+\n",
      "|total_bill| tip|   sex|smoker|day|  time|size|sex_indexed|smoked_indexed|day_indexed|time_indexed|\n",
      "+----------+----+------+------+---+------+----+-----------+--------------+-----------+------------+\n",
      "|     16.99|1.01|Female|    No|Sun|Dinner|   2|        1.0|           0.0|        1.0|         0.0|\n",
      "|     10.34|1.66|  Male|    No|Sun|Dinner|   3|        0.0|           0.0|        1.0|         0.0|\n",
      "|     21.01| 3.5|  Male|    No|Sun|Dinner|   3|        0.0|           0.0|        1.0|         0.0|\n",
      "|     23.68|3.31|  Male|    No|Sun|Dinner|   2|        0.0|           0.0|        1.0|         0.0|\n",
      "|     24.59|3.61|Female|    No|Sun|Dinner|   4|        1.0|           0.0|        1.0|         0.0|\n",
      "+----------+----+------+------+---+------+----+-----------+--------------+-----------+------------+\n",
      "only showing top 5 rows\n",
      "\n"
     ]
    }
   ],
   "source": [
    "# Handling categorical features\n",
    "# StringIndexer will ordinal encoding to change categorical into numberical values\n",
    "from pyspark.ml.feature import StringIndexer\n",
    "indexer = StringIndexer(inputCols= ['sex', 'smoker', 'day', 'time'], outputCols= ['sex_indexed', 'smoked_indexed', 'day_indexed', 'time_indexed'])\n",
    "df_r = indexer.fit(df).transform(df)\n",
    "df_r.show(5)"
   ]
  },
  {
   "cell_type": "code",
   "execution_count": 3,
   "id": "eee13bd7-f2b3-44cd-8254-5b18b1e9133b",
   "metadata": {},
   "outputs": [
    {
     "name": "stdout",
     "output_type": "stream",
     "text": [
      "+----------+--------------------+\n",
      "|total_bill| independent feature|\n",
      "+----------+--------------------+\n",
      "|     16.99|[1.01,2.0,1.0,0.0...|\n",
      "|     10.34|[1.66,3.0,0.0,0.0...|\n",
      "|     21.01|[3.5,3.0,0.0,0.0,...|\n",
      "|     23.68|[3.31,2.0,0.0,0.0...|\n",
      "|     24.59|[3.61,4.0,1.0,0.0...|\n",
      "+----------+--------------------+\n",
      "only showing top 5 rows\n",
      "\n"
     ]
    }
   ],
   "source": [
    "# Group dependent and independent features together\n",
    "featureassembler = VectorAssembler(inputCols = [\"tip\", \"size\", 'sex_indexed', 'smoked_indexed', 'day_indexed', 'time_indexed'], outputCol = \"independent feature\")\n",
    "# Making the training data ready\n",
    "output = featureassembler.transform(df_r)\n",
    "final_df = output.select('total_bill', 'independent feature')\n",
    "final_df.show(5)"
   ]
  },
  {
   "cell_type": "code",
   "execution_count": 4,
   "id": "0f4ecb69-6baa-4995-b9a6-91ac02d988a5",
   "metadata": {},
   "outputs": [
    {
     "name": "stdout",
     "output_type": "stream",
     "text": [
      "LR Coeff:  [2.6066856774163667,3.7059028831099696,-0.4717825341784274,2.251695427417091,-0.8431668944334891,-0.18545269747894372]\n",
      "LR intercept:  2.634702211405314\n"
     ]
    }
   ],
   "source": [
    "# Split data into train and test\n",
    "\n",
    "train_data, test_data = final_df.randomSplit([0.75, 0.25])\n",
    "regressor = LinearRegression(featuresCol = \"independent feature\", labelCol = \"total_bill\")\n",
    "regressor = regressor.fit(train_data)\n",
    "print(f\"LR Coeff: \", regressor.coefficients)\n",
    "print(f\"LR intercept: \", regressor.intercept)"
   ]
  },
  {
   "cell_type": "code",
   "execution_count": 6,
   "id": "3928d02c-e620-4118-b1db-f6933000df4c",
   "metadata": {},
   "outputs": [
    {
     "name": "stdout",
     "output_type": "stream",
     "text": [
      "+----------+--------------------+------------------+\n",
      "|total_bill| independent feature|        prediction|\n",
      "+----------+--------------------+------------------+\n",
      "|      3.07|[1.0,1.0,1.0,1.0,...|10.727203665170313|\n",
      "|      7.56|[1.44,2.0,0.0,0.0...|11.928348866758899|\n",
      "|      8.52|[1.48,2.0,0.0,0.0...|12.032616293855554|\n",
      "|      8.58|[1.92,1.0,0.0,1.0...|10.882183641792388|\n",
      "|      8.77|[2.0,2.0,0.0,0.0,...|14.416712438024497|\n",
      "+----------+--------------------+------------------+\n",
      "only showing top 5 rows\n",
      "\n"
     ]
    }
   ],
   "source": [
    "# predictions\n",
    "pred_result = regressor.evaluate(test_data)\n",
    "pred_result.predictions.show(5)"
   ]
  },
  {
   "cell_type": "code",
   "execution_count": 7,
   "id": "2eee320b-d59d-46c1-8963-bd84b653d059",
   "metadata": {},
   "outputs": [
    {
     "name": "stdout",
     "output_type": "stream",
     "text": [
      "R-Squared : 0.6782067649182508\n",
      "Mean Absolute Error : 4.5688578480495\n",
      "Mean Squared Error : 33.91810933942235\n"
     ]
    }
   ],
   "source": [
    "# Performance Metircs \n",
    "print(f\"R-Squared :\", pred_result.r2)\n",
    "print(f\"Mean Absolute Error :\", pred_result.meanAbsoluteError)\n",
    "print(f\"Mean Squared Error :\", pred_result.meanSquaredError)"
   ]
  }
 ],
 "metadata": {
  "kernelspec": {
   "display_name": "Python 3 (ipykernel)",
   "language": "python",
   "name": "python3"
  },
  "language_info": {
   "codemirror_mode": {
    "name": "ipython",
    "version": 3
   },
   "file_extension": ".py",
   "mimetype": "text/x-python",
   "name": "python",
   "nbconvert_exporter": "python",
   "pygments_lexer": "ipython3",
   "version": "3.9.7"
  }
 },
 "nbformat": 4,
 "nbformat_minor": 5
}
